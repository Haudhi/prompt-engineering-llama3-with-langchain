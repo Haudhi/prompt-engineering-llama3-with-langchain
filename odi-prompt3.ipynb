{
 "cells": [
  {
   "cell_type": "code",
   "execution_count": null,
   "metadata": {},
   "outputs": [
    {
     "name": "stdout",
     "output_type": "stream",
     "text": [
      "To find the biggest sales area this month, we need to use the `fmc.ih_sales_dd` table.\n",
      "\n",
      "```sql\n",
      "SELECT area, SUM(total_revenue) AS total_revenue\n",
      "FROM fmc.ih_sales_dd\n",
      "WHERE event_date BETWEEN '2025-02-01' AND '2025-02-28'\n",
      "GROUP BY area\n",
      "ORDER BY total_revenue DESC\n",
      "LIMIT 1;\n",
      "```\n",
      "\n",
      "This query will return the area with the highest sales revenue for this month.\n"
     ]
    }
   ],
   "source": [
    "import datetime\n",
    "from langchain.chains import LLMChain\n",
    "from langchain.prompts import PromptTemplate\n",
    "from langchain_community.llms import Ollama\n",
    "\n",
    "with open(\"schema.sql\", \"r\") as file:\n",
    "    schema = file.read()\n",
    "\n",
    "with open(\"menu_mappings.txt\", \"r\") as file:\n",
    "    menu_mappings = file.read()\n",
    "\n",
    "with open(\"prompt_template2.txt\", \"r\") as file:\n",
    "    prompt_text = file.read()\n",
    "\n",
    "def get_date_placeholders():\n",
    "    today = datetime.date.today()\n",
    "    return {\n",
    "        \"current_month_start\": today.replace(day=1).strftime(\"%Y-%m-%d\"),\n",
    "        \"current_month_end\": (today.replace(day=28) + datetime.timedelta(days=4)).replace(day=1) - datetime.timedelta(days=1),\n",
    "        \"last_month_start\": (today.replace(day=1) - datetime.timedelta(days=1)).replace(day=1).strftime(\"%Y-%m-%d\"),\n",
    "        \"last_month_end\": (today.replace(day=1) - datetime.timedelta(days=1)).strftime(\"%Y-%m-%d\")\n",
    "    }\n",
    "\n",
    "\n",
    "llm = Ollama(\n",
    "    model=\"llama3.2:3b\",\n",
    "    temperature=0,\n",
    "    system=\"You are an SQL expert that follows rules strictly. Return ONLY valid SQL queries.\",\n",
    "    num_ctx=4096  # Increased context window for complex schemas\n",
    ")\n",
    "\n",
    "prompt_template = PromptTemplate(\n",
    "    input_variables=[\"menu_mappings\", \"schema\", \"question\"],\n",
    "    template=prompt_text\n",
    ")\n",
    "\n",
    "sql_chain = LLMChain(llm=llm, prompt=prompt_template)\n",
    "\n",
    "\n",
    "def generate_sql_query(question):\n",
    "    \n",
    "    dates = get_date_placeholders()\n",
    "    \n",
    "    raw_query = sql_chain.run({\n",
    "        \"menu_mappings\": menu_mappings,\n",
    "        \"schema\": schema,\n",
    "        \"question\": question\n",
    "    })\n",
    "    \n",
    "    final_query = raw_query.format(**dates)\n",
    "    \n",
    "    return final_query\n",
    "\n",
    "\n",
    "question = \"In which area is the biggest sales this month?\"\n",
    "print(generate_sql_query(question))\n"
   ]
  },
  {
   "cell_type": "code",
   "execution_count": null,
   "metadata": {},
   "outputs": [],
   "source": []
  }
 ],
 "metadata": {
  "kernelspec": {
   "display_name": "base",
   "language": "python",
   "name": "python3"
  },
  "language_info": {
   "codemirror_mode": {
    "name": "ipython",
    "version": 3
   },
   "file_extension": ".py",
   "mimetype": "text/x-python",
   "name": "python",
   "nbconvert_exporter": "python",
   "pygments_lexer": "ipython3",
   "version": "3.11.5"
  }
 },
 "nbformat": 4,
 "nbformat_minor": 2
}
